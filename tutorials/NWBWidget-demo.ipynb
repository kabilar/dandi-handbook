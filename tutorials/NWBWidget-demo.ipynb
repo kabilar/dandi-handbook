{
 "cells": [
  {
   "cell_type": "markdown",
   "metadata": {},
   "source": [
    "## NWB Widgets\n",
    "\n",
    "[NWB Widgets](https://github.com/NeurodataWithoutBorders/nwb-jupyter-widgets) is a python package for automatic, interactive, performant exploration of data in [NWB](https://www.nwb.org/) files. This notebook demonstrates how to use NWB Widgets to explore data, and how to stream data from the [DANDI archive](dandiarchive.org) directly into NWB Widgets.\n",
    "\n",
    "NWB Widgets uses the metadata of the NWB file to understand the contents and infer what visualizations make sense for this data. The code is exactly the same for visualizing each different NWB filea. We demonstrate this here with one calcium imaging NWB file and one with Neuropixel extracellular electrophysiology.\n",
    "\n",
    "While this notebook can be run on a properly configured environment anywhere, it will be particularly easy to use and performant using the \"NWBstream\" environment deployed for free on [DANDI Hub](https://hub.dandiarchive.org/). "
   ]
  },
  {
   "cell_type": "code",
   "execution_count": null,
   "metadata": {},
   "outputs": [],
   "source": [
    "import pynwb\n",
    "from pynwb import NWBHDF5IO\n",
    "from nwbwidgets import nwb2widget\n",
    "import requests\n",
    "\n",
    "def _search_assets(url, filepath):\n",
    "    response = requests.request(\"GET\", url, headers={\"Accept\": \"application/json\"}).json() \n",
    "    \n",
    "    for asset in response[\"results\"]:\n",
    "        if filepath == asset[\"path\"]:\n",
    "            return asset[\"asset_id\"]\n",
    "    \n",
    "    if response.get(\"next\", None):\n",
    "        return _search_assets(response[\"next\"], filepath)\n",
    "    \n",
    "    raise ValueError(f'path {filepath} not found in dandiset {dandiset_id}.')\n",
    "\n",
    "\n",
    "def get_asset_id(dandiset_id, filepath):\n",
    "    url = f\"https://api.dandiarchive.org/api/dandisets/{dandiset_id}/versions/draft/assets/\"\n",
    "    return _search_assets(url, filepath)\n",
    "\n",
    "def get_s3_url(dandiset_id, filepath):\n",
    "    \"\"\"Get the s3 location for any NWB file on DANDI\"\"\"\n",
    "\n",
    "    asset_id = get_asset_id(dandiset_id, filepath)\n",
    "    url = f\"https://api.dandiarchive.org/api/dandisets/{dandiset_id}/versions/draft/assets/{asset_id}/download/\"\n",
    "    \n",
    "    s3_url = requests.request(url=url, method='head').url\n",
    "    if '?' in s3_url:\n",
    "        return s3_url[:s3_url.index('?')]\n",
    "    return s3_url"
   ]
  },
  {
   "cell_type": "code",
   "execution_count": null,
   "metadata": {},
   "outputs": [],
   "source": [
    "# calcium imaging, Giocomo Lab (30 GB)\n",
    "dandiset_id, filepath = \"000054\", \"sub-F2/sub-F2_ses-20190407T210000_behavior+ophys.nwb\"\n",
    "\n",
    "# neuropixel, Giocomo Lab (46 GB)\n",
    "#dandiset_id, filepath = \"000053\", \"sub-npI1/sub-npI1_ses-20190415_behavior+ecephys.nwb\"\n",
    "\n",
    "s3_path = get_s3_url(dandiset_id, filepath)"
   ]
  },
  {
   "cell_type": "markdown",
   "metadata": {},
   "source": [
    "Note that these NWB files are quite large. In fact, we have chosen NWB files that contain raw data to demonstrate how data streaming can efficiently deal with these large files. Streaming works efficiently with NWB Widgets so that only the data necessary to create each view is read from DANDI. As a result, data transfer is minimized and data can be explored efficiently."
   ]
  },
  {
   "cell_type": "code",
   "execution_count": null,
   "metadata": {},
   "outputs": [],
   "source": [
    "# use the \"Read Only S3\" (ros3) driver to stream data directly from DANDI (or any other S3 location)\n",
    "io = NWBHDF5IO(s3_path, mode='r', load_namespaces=True, driver='ros3')\n",
    "\n",
    "nwb = io.read()\n",
    "nwb2widget(nwb)"
   ]
  },
  {
   "cell_type": "markdown",
   "metadata": {},
   "source": [
    "## Running NWBWidgets locally\n",
    "\n",
    "You can also download NWB files and run NWB Widgets locally by passing the local path (and omitting the ros3 driver flag). Here we will demonstrate this with a smaller intracellular electrophysiology dataset."
   ]
  },
  {
   "cell_type": "code",
   "execution_count": null,
   "metadata": {},
   "outputs": [],
   "source": [
    "# icephys, optogenetics, and behavior, Svoboda Lab (632 MB)\n",
    "dandiset_id, filepath = \"000005\", \"sub-anm324650/sub-anm324650_ses-20160422_behavior+icephys+ogen.nwb\"\n",
    "asset_id = get_asset_id(dandiset_id, filepath)\n",
    "print(f\"https://api.dandiarchive.org/api/dandisets/{dandiset_id}/versions/draft/assets/{asset_id}/download/\")"
   ]
  },
  {
   "cell_type": "markdown",
   "metadata": {},
   "source": [
    "click the link that is output above ^^"
   ]
  },
  {
   "cell_type": "code",
   "execution_count": null,
   "metadata": {},
   "outputs": [],
   "source": [
    "import os.path as op\n",
    "io = NWBHDF5IO(op.expanduser(\"~/Downloads/sub-anm324650_ses-20160422_behavior+icephys+ogen.nwb\"), mode='r', load_namespaces=True)\n",
    "\n",
    "nwb = io.read()\n",
    "nwb2widget(nwb)"
   ]
  },
  {
   "cell_type": "markdown",
   "metadata": {},
   "source": [
    "When running with local data, NWBWidgets still only reads the data that is necessary from disk."
   ]
  }
 ],
 "metadata": {
  "kernelspec": {
   "display_name": "Python 3",
   "language": "python",
   "name": "python3"
  },
  "language_info": {
   "codemirror_mode": {
    "name": "ipython",
    "version": 3
   },
   "file_extension": ".py",
   "mimetype": "text/x-python",
   "name": "python",
   "nbconvert_exporter": "python",
   "pygments_lexer": "ipython3",
   "version": "3.7.4"
  }
 },
 "nbformat": 4,
 "nbformat_minor": 4
}
